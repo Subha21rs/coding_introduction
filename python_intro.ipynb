{
  "nbformat": 4,
  "nbformat_minor": 0,
  "metadata": {
    "colab": {
      "provenance": []
    },
    "kernelspec": {
      "name": "python3",
      "display_name": "Python 3"
    },
    "language_info": {
      "name": "python"
    }
  },
  "cells": [
    {
      "cell_type": "markdown",
      "source": [
        "**Variables**"
      ],
      "metadata": {
        "id": "5ed1CR4w6KK8"
      }
    },
    {
      "cell_type": "code",
      "execution_count": null,
      "metadata": {
        "id": "rroIwf1b53kC"
      },
      "outputs": [],
      "source": [
        "students_count=30\n",
        "rating=4.99\n",
        "is_published=False\n",
        "course_name='Python Basics'\n",
        "COURSE_NAME=\"Statistics Learning\"\n",
        "\n",
        "print(students_count)\n",
        "print(rating)\n",
        "print(is_published)\n",
        "print(course_name)"
      ]
    },
    {
      "cell_type": "markdown",
      "source": [
        "**Strings**"
      ],
      "metadata": {
        "id": "CrxeVjrG8M7y"
      }
    },
    {
      "cell_type": "code",
      "source": [
        "course= 'Python Programming'\n",
        "print(len(course))\n",
        "print(course[0])\n",
        "print(course[-1])\n",
        "print(course[0:3])\n",
        "print(course[3:])"
      ],
      "metadata": {
        "id": "Sr93S4-g7lPM"
      },
      "execution_count": null,
      "outputs": []
    },
    {
      "cell_type": "code",
      "source": [
        "first='Subhajit'\n",
        "last='Dutta'\n",
        "full=first+' '+last\n",
        "print(full)\n",
        "# Formated String\n",
        "full=f'{first} {last}'\n",
        "print(full)\n"
      ],
      "metadata": {
        "id": "DAYgzbBW98lT"
      },
      "execution_count": null,
      "outputs": []
    },
    {
      "cell_type": "markdown",
      "source": [
        "```course``` a python string object of the built-in class ```str```. Objects in Python have attributes and methods. Attributes are like properties (e.g., the length of the string). Methods are like actions we can do with the object (e.g. changing all letters to uppercase)."
      ],
      "metadata": {
        "id": "YGbt58GD_53T"
      }
    },
    {
      "cell_type": "code",
      "source": [
        "course='python programming'\n",
        "print(course.upper())\n",
        "print(course.find('pro'))\n",
        "print(course.replace('p','j'))"
      ],
      "metadata": {
        "id": "wGaDGd3K-2Aj"
      },
      "execution_count": null,
      "outputs": []
    },
    {
      "cell_type": "markdown",
      "source": [
        "**Numbers**"
      ],
      "metadata": {
        "id": "pg44s8jICdwq"
      }
    },
    {
      "cell_type": "code",
      "source": [
        "print(10/3)\n",
        "print(10//3)    # returns the integer part\n",
        "print(10%3)     # returns the remainder\n",
        "print(10**3)    # returns the\n",
        "print(round(2.9))\n",
        "print(abs(-2.9))"
      ],
      "metadata": {
        "id": "cLalYqMAChnK"
      },
      "execution_count": null,
      "outputs": []
    },
    {
      "cell_type": "code",
      "source": [
        "import math\n",
        "print(math.ceil(2.2))"
      ],
      "metadata": {
        "id": "ge31YUqSDBzv"
      },
      "execution_count": null,
      "outputs": []
    },
    {
      "cell_type": "markdown",
      "source": [
        "Input Statement"
      ],
      "metadata": {
        "id": "fFN9Kss9zAkG"
      }
    },
    {
      "cell_type": "code",
      "source": [
        "name=input('Enter your name:')\n",
        "age=input('Enter your age: ')\n",
        "print(\"Hello \"+name+'! You are '+age)"
      ],
      "metadata": {
        "id": "0ojByqgxyLMO"
      },
      "execution_count": null,
      "outputs": []
    },
    {
      "cell_type": "markdown",
      "source": [
        "**Lists**"
      ],
      "metadata": {
        "id": "EsxI9KZIzaPv"
      }
    },
    {
      "cell_type": "code",
      "source": [
        "lucky_numbers=[4,8,15,16,23,42]\n",
        "friends=['kevin','karen','Jim']\n",
        "print(friends[0])\n",
        "\n",
        "friends.extend(lucky_numbers)\n",
        "print(friends)\n",
        "\n",
        "friends.append('creed')\n",
        "print(friends)\n",
        "\n",
        "friends.insert(1,'kelly')\n",
        "print(friends)\n",
        "\n",
        "friends.remove('Jim')\n",
        "\n",
        "print(friends.index('kevin'))\n",
        "\n",
        "friends=['kevin','karen','Jim']\n",
        "friends.sort()\n",
        "print(friends)\n",
        "\n",
        "friends.reverse()\n",
        "\n",
        "friends.clear()\n",
        "\n"
      ],
      "metadata": {
        "id": "Oew2lM_Wzhlk"
      },
      "execution_count": null,
      "outputs": []
    },
    {
      "cell_type": "markdown",
      "source": [
        "**Functions**"
      ],
      "metadata": {
        "id": "McFwzvzk2fL4"
      }
    },
    {
      "cell_type": "code",
      "source": [
        "def cube(num):\n",
        "  return num*num*num\n",
        "\n",
        "result=cube(3)\n",
        "print(result)"
      ],
      "metadata": {
        "id": "cG5To8ci2iF1"
      },
      "execution_count": null,
      "outputs": []
    },
    {
      "cell_type": "markdown",
      "source": [
        "**if else statement**"
      ],
      "metadata": {
        "id": "OwP74DMexpD8"
      }
    },
    {
      "cell_type": "code",
      "source": [
        "is_male=False\n",
        "is_tall=False\n",
        "\n",
        "if is_male and is_tall:\n",
        "  print(\"You are a tall male\")\n",
        "else:\n",
        "  print('You are either not male or not tall')"
      ],
      "metadata": {
        "id": "tTV-Nlwpxvfk"
      },
      "execution_count": null,
      "outputs": []
    },
    {
      "cell_type": "code",
      "source": [
        "def max_num(num1,num2,num3):\n",
        "  if num1>=num2 and num1>=num3:\n",
        "    return num1\n",
        "  elif num2>=num1 and num2>=num3:\n",
        "    return num2\n",
        "  else:\n",
        "    return num3\n",
        "\n",
        "max_num(3,40,5)"
      ],
      "metadata": {
        "id": "Sc4mz0JayPec"
      },
      "execution_count": null,
      "outputs": []
    },
    {
      "cell_type": "markdown",
      "source": [
        "**While loop**"
      ],
      "metadata": {
        "id": "gTj59ejpzDnb"
      }
    },
    {
      "cell_type": "code",
      "source": [
        "i=1\n",
        "while i<=10:\n",
        "  print(i)\n",
        "  i+=1\n"
      ],
      "metadata": {
        "id": "heQ8HDVRzGex"
      },
      "execution_count": null,
      "outputs": []
    },
    {
      "cell_type": "markdown",
      "source": [
        "**For loop**"
      ],
      "metadata": {
        "id": "TE7KJUZTzoGh"
      }
    },
    {
      "cell_type": "code",
      "source": [
        "for letter in 'Statistics Learning':\n",
        "  print(letter)"
      ],
      "metadata": {
        "id": "DkhbH-nLzqGo"
      },
      "execution_count": null,
      "outputs": []
    },
    {
      "cell_type": "markdown",
      "source": [
        "**try except statement**"
      ],
      "metadata": {
        "id": "F3uQE1cT2qNN"
      }
    },
    {
      "cell_type": "code",
      "source": [
        "try:\n",
        "  number= 10/0\n",
        "  number=int(input(\"Enter a number:\"))\n",
        "  print(number)\n",
        "except ZeroDivisionError as err:\n",
        "  print(err)\n",
        "except ValueError:\n",
        "  print('Invalid input')\n"
      ],
      "metadata": {
        "id": "ZgHxCClM2ux5"
      },
      "execution_count": null,
      "outputs": []
    },
    {
      "cell_type": "markdown",
      "source": [
        "**Reading and writing in files**"
      ],
      "metadata": {
        "id": "F9OJCVj24Qw8"
      }
    },
    {
      "cell_type": "code",
      "source": [
        "list_file=open(\"speakers_syllabus.txt\",\"a\")\n",
        "# print(cnae_file.read())\n",
        "list_file.write(\"\\nDr. Minerva Mukhopadhyay: Basics of Linear Algebra, Introduction to Bayesian Methods\")\n",
        "list_file.write(\"\\nDr. Debraj Das: Probability Distributions, Some Useful Inequalities, Concentration Inequalities, Metrics and Divergences Between Probability Distributions\")\n",
        "list_file.write(\"\\nDr. Subhajit Dutta: Introduction to Statistical Learning, An Introduction to R and Python\")\n",
        "list_file.write(\"\\nDr. Soham Sarkar: Primer on Functional Analysis and Probability on Hilbert Spaces, Introduction to Functional Data\")\n",
        "list_file.write(\"\\nDr. Anirvan Chakraborty: Classification of Functional Data\")\n",
        "list_file.close()"
      ],
      "metadata": {
        "id": "tE_T7rEW4UqG"
      },
      "execution_count": null,
      "outputs": []
    },
    {
      "cell_type": "markdown",
      "source": [
        "**modules** : A module is a .py file that contains python codes-usually functions, classes, variables that can be used in other programs by importing it."
      ],
      "metadata": {
        "id": "JPKqqe1e6657"
      }
    },
    {
      "cell_type": "code",
      "source": [
        "# /content/speakers_syllabus.txt\n",
        "# /content/sample_data/mnist_test.csv\n",
        "\n",
        "import mymath\n",
        "\n",
        "print(mymath.add(3,5))\n",
        "print(mymath.divide(100,10))"
      ],
      "metadata": {
        "id": "_TI18H8S6_MJ"
      },
      "execution_count": null,
      "outputs": []
    },
    {
      "cell_type": "markdown",
      "source": [
        "More existing python modules are there: https://docs.python.org/3/py-modindex.html#cap-n\n",
        "\n",
        "There are a lot of third party modules also. You can install them in your system: go to terminal/command prompt then type these commands\n",
        "```pip install module_name```\n",
        "\n",
        "( if pip is not installed in your system, then install pip using::\n",
        "\n",
        "for windows: ```python get-pip.py```\n",
        "\n",
        "for Linux: ```sudo apt install python3-pip```        )\n",
        "\n",
        "Google Colab has already a lot of modules. So you don't have to install them here. Just import the modules and use them."
      ],
      "metadata": {
        "id": "JSjq6uVtTDXq"
      }
    },
    {
      "cell_type": "markdown",
      "source": [
        "**numpy module**"
      ],
      "metadata": {
        "id": "PXT6BUPsYEek"
      }
    },
    {
      "cell_type": "code",
      "source": [
        "import numpy as np"
      ],
      "metadata": {
        "id": "JSWhBVocTxGc"
      },
      "execution_count": null,
      "outputs": []
    },
    {
      "cell_type": "code",
      "source": [
        "a=np.array([1,2,3])\n",
        "print(a)\n",
        "b= np.array([[1,2,3,4,5,6,7],[8,9,10,11,12,13,14]])\n",
        "print(b)"
      ],
      "metadata": {
        "id": "ayHTbzWYYOqw"
      },
      "execution_count": null,
      "outputs": []
    },
    {
      "cell_type": "code",
      "source": [
        "a = np.array([1, 2, 3], dtype=np.float32)\n",
        "print(a.dtype)\n",
        "\n",
        "a = np.array([1.5, 2.8, 3.3])\n",
        "b = a.astype(np.int32)  # Truncates decimals\n",
        "print(b)"
      ],
      "metadata": {
        "id": "ZPnxWFJ5a3gy"
      },
      "execution_count": null,
      "outputs": []
    },
    {
      "cell_type": "code",
      "source": [
        "print(a.ndim)\n",
        "print(a.shape)\n",
        "print(np.shape(a))\n",
        "\n",
        "print(b.ndim)\n",
        "print(b.shape)\n",
        "print(np.shape(b))"
      ],
      "metadata": {
        "id": "ctrlmkBfYmQB"
      },
      "execution_count": null,
      "outputs": []
    },
    {
      "cell_type": "code",
      "source": [
        "print(b[1,5])\n",
        "print(b[0,:])\n",
        "print(b[1,2:5])"
      ],
      "metadata": {
        "id": "utEwfTpRZXwz"
      },
      "execution_count": null,
      "outputs": []
    },
    {
      "cell_type": "code",
      "source": [
        "# Initialize different types of arrays\n",
        "c= np.zeros((2,3))\n",
        "print(c)\n",
        "\n",
        "d=np.ones((3,3))\n",
        "print(d)\n",
        "\n",
        "e=np.empty((2,2))\n",
        "print(e)\n",
        "\n",
        "f=np.random.rand(3,3)\n",
        "print(f)\n",
        "\n",
        "g=np.identity(3)\n",
        "print(g)"
      ],
      "metadata": {
        "id": "UGDN0e2yaTzC"
      },
      "execution_count": null,
      "outputs": []
    },
    {
      "cell_type": "code",
      "source": [
        "a=np.ones((2,3))\n",
        "b=np.full((3,2),2)\n",
        "\n",
        "np.matmul(a,b)"
      ],
      "metadata": {
        "id": "l32ODuqbb2H9"
      },
      "execution_count": null,
      "outputs": []
    },
    {
      "cell_type": "code",
      "source": [
        "a=np.array([[1,2,3,4],[5,6,7,8]])\n",
        "print(a)\n",
        "b=a.reshape((4,2))\n",
        "print(b)"
      ],
      "metadata": {
        "id": "QjPtdmqruVEO"
      },
      "execution_count": null,
      "outputs": []
    },
    {
      "cell_type": "markdown",
      "source": [
        "array concatenation"
      ],
      "metadata": {
        "id": "S8EyEaN0MIyY"
      }
    },
    {
      "cell_type": "code",
      "source": [
        "a = np.array([[1, 2], [3, 4]])\n",
        "b = np.array([[5, 6]])\n",
        "\n",
        "# Concatenate along axis 0 (vertically)\n",
        "result = np.concatenate((a, b), axis=0)  # a and b should have same number of columns\n",
        "print(result)\n",
        "\n",
        "# Or we can do vstack also to stack arrays vertically\n",
        "result2= np.vstack((a,b))\n",
        "print(result2)"
      ],
      "metadata": {
        "id": "6WMMWHnpMNb8"
      },
      "execution_count": null,
      "outputs": []
    },
    {
      "cell_type": "code",
      "source": [
        "a = np.array([[1], [2]])\n",
        "b = np.array([[3], [4]])\n",
        "\n",
        "result= np.concatenate((a, b), axis=1)  # a and b should have same number of rows\n",
        "print(result)\n",
        "\n",
        "# Or we can do hstack also to stack arrays horizontally\n",
        "result2= np.hstack((a,b))\n",
        "print(result2)\n"
      ],
      "metadata": {
        "id": "aHlRqMNVNgdY"
      },
      "execution_count": null,
      "outputs": []
    },
    {
      "cell_type": "code",
      "source": [
        "a = np.array([1, 2])\n",
        "b = np.array([3, 4])\n",
        "\n",
        "result = np.stack((a, b), axis=0)  # Shape (2, 2)\n",
        "result2 = np.stack((a, b), axis=1) # Shape (2, 2)\n",
        "print(result)\n",
        "print(result2)"
      ],
      "metadata": {
        "id": "eMvN0CK_N2Y6"
      },
      "execution_count": null,
      "outputs": []
    },
    {
      "cell_type": "code",
      "source": [
        "# 3D array\n",
        "a = np.random.rand(2, 3, 4)  # Shape: (2, 3, 4)\n",
        "b = np.random.rand(2, 3, 4)  # Shape: (2, 3, 4)\n",
        "\n",
        "# Concatenate along axis=0\n",
        "res1 = np.concatenate((a, b), axis=0)\n",
        "print(res1.shape)\n",
        "\n",
        "# Concatenate along axis=1\n",
        "res2 = np.concatenate((a, b), axis=1)\n",
        "print(res2.shape)\n",
        "\n",
        "# Concatenate along axis=2\n",
        "res2 = np.concatenate((a, b), axis=2)\n",
        "print(res2.shape)"
      ],
      "metadata": {
        "id": "-xgm7jKIO_sd"
      },
      "execution_count": null,
      "outputs": []
    },
    {
      "cell_type": "code",
      "source": [
        "# add new axis before concatenation\n",
        "x = np.array([1, 2, 3])\n",
        "y = np.array([4, 5, 6])\n",
        "print(x.shape)\n",
        "\n",
        "# Convert to 2D\n",
        "x2 = x[:, np.newaxis]\n",
        "y2 = y[:, np.newaxis]\n",
        "print(x2.shape)\n",
        "\n",
        "res = np.concatenate((x2, y2), axis=1)\n",
        "print(res.shape)"
      ],
      "metadata": {
        "id": "ZlgnBz8JPsR8"
      },
      "execution_count": null,
      "outputs": []
    },
    {
      "cell_type": "code",
      "source": [
        "# repeat many times\n",
        "a = np.array([1, 2])\n",
        "res = np.tile(a, (3, 1))\n",
        "print(res)\n",
        "\n",
        "# Repeat elements along a specific axis\n",
        "res2 = np.repeat(a[np.newaxis, :], 3, axis=0)\n",
        "print(res2)"
      ],
      "metadata": {
        "id": "iN09VqfBQ7a3"
      },
      "execution_count": null,
      "outputs": []
    },
    {
      "cell_type": "code",
      "source": [
        "# flatten function\n",
        "a = np.array([[1,2,3,4,5,6],[7,8,9,10,11,12]])\n",
        "print(a.shape)\n",
        "\n",
        "b=a.flatten()\n",
        "print(b.shape)\n",
        "print(b)"
      ],
      "metadata": {
        "id": "AfzhAsYrRrAR"
      },
      "execution_count": null,
      "outputs": []
    },
    {
      "cell_type": "markdown",
      "source": [
        "Importing .txt and .csv file using numpy"
      ],
      "metadata": {
        "id": "Qltq-jy9b98h"
      }
    },
    {
      "cell_type": "code",
      "source": [
        "data = np.loadtxt('example_data.csv', delimiter=',')\n",
        "print(data.shape)\n",
        "print(data)"
      ],
      "metadata": {
        "id": "NjsO6b0eb9WO"
      },
      "execution_count": null,
      "outputs": []
    },
    {
      "cell_type": "markdown",
      "source": [
        "Plotting in python"
      ],
      "metadata": {
        "id": "YW3CwH6m3dmI"
      }
    },
    {
      "cell_type": "code",
      "source": [
        "import matplotlib.pyplot as plt"
      ],
      "metadata": {
        "id": "8InJ6W_C0g6V"
      },
      "execution_count": null,
      "outputs": []
    },
    {
      "cell_type": "code",
      "source": [
        "x=np.random.random(50)*100\n",
        "y=np.random.random(50)*100\n",
        "\n",
        "#scatter plot\n",
        "plt.scatter(x,y, c='red', marker='*',s=150)\n",
        "\n",
        "#plt.show"
      ],
      "metadata": {
        "id": "AeN06imJlEZs"
      },
      "execution_count": null,
      "outputs": []
    },
    {
      "cell_type": "code",
      "source": [
        "years=[2012+ x for x in range(10)]\n",
        "print(years)\n",
        "\n",
        "weights=[80,83,84,79,88,70,90,89,75,71]\n",
        "# line plot\n",
        "plt.plot(years,weights)\n",
        "plt.title('Plot of weights')\n",
        "plt.xlabel('Years')\n",
        "plt.ylabel('Weights')"
      ],
      "metadata": {
        "id": "TXDXZeWBlHyx"
      },
      "execution_count": null,
      "outputs": []
    },
    {
      "cell_type": "code",
      "source": [
        "import pandas as pd\n",
        "\n",
        "# In this \"sample_data.csv\" file there are 5188 different time series trials each belonging\n",
        "# to one of the 6 classes. Last column of the data is the class_labels. The time-\n",
        "# series is recorded for 500 mili second with a sampling rate 64\n",
        "data=pd.read_csv('example_data.csv',header=None)\n",
        "\n",
        "#member=data.iloc[:,-1]\n",
        "data=data.to_numpy()\n",
        "print(data.shape)\n",
        "member= data[:,-1]\n",
        "print(member.shape)\n",
        "\n",
        "data=data[:,:-1]\n",
        "print(data.shape)\n",
        "\n",
        "cl1_data=data[member==1,:]\n",
        "cl2_data= data[member==2,:]\n",
        "cl3_data= data[member==3,:]\n",
        "cl4_data= data[member==4,:]\n",
        "cl5_data= data[member==5,:]\n",
        "cl6_data= data[member==6,:]\n",
        "\n",
        "cl1 = cl1_data.mean(axis=0)\n",
        "cl2 = cl2_data.mean(axis=0)\n",
        "cl3 = cl3_data.mean(axis=0)\n",
        "cl4 = cl4_data.mean(axis=0)\n",
        "cl5 = cl5_data.mean(axis=0)\n",
        "cl6 = cl6_data.mean(axis=0)\n",
        "print(cl6.shape)\n",
        "\n",
        "x = np.linspace(0,500,32)\n",
        "# plot the time-series based on their class label\n",
        "plt.plot(x,cl1,'r',lw=2,label='class1')\n",
        "plt.plot(x,cl2,'g',lw=2,label='class2')\n",
        "plt.plot(x,cl3,'b',lw=2,label='class3')\n",
        "plt.plot(x,cl4,'y',lw=2,label='class4')\n",
        "plt.plot(x,cl5,'k',lw=2,label='class5')\n",
        "plt.plot(x,cl6,'m',lw=2,label='class6')\n",
        "plt.legend(fontsize=10)\n",
        "plt.title('Plot of 6 different classes',fontsize=25)\n",
        "plt.xlabel('Time (ms)',fontsize=20)\n",
        "plt.ylabel('Amplitude',fontsize=20)\n",
        "plt.xticks(np.arange(0, 501, 100),fontsize=15)\n",
        "plt.yticks(fontsize=15)\n",
        "plt.grid()\n",
        "\n",
        "# To save the figure\n",
        "plt.savefig('time_series_6_class.pdf', bbox_inches='tight')\n",
        "# plt.show()"
      ],
      "metadata": {
        "id": "toO4iTITlMTn"
      },
      "execution_count": null,
      "outputs": []
    },
    {
      "cell_type": "code",
      "source": [
        "x=['Math','Stat','CS','PHY','BIO','CHEM']\n",
        "y=[25,20,30,35,50,40]\n",
        "\n",
        "# bar plot\n",
        "plt.bar(x,y,color='b')"
      ],
      "metadata": {
        "id": "9tp5BEZ10UIG"
      },
      "execution_count": null,
      "outputs": []
    },
    {
      "cell_type": "code",
      "source": [
        "ages=np.random.normal(20,1.5,1000)\n",
        "\n",
        "#print(ages)\n",
        "\n",
        "# Hisogram\n",
        "plt.hist(ages,bins=20)"
      ],
      "metadata": {
        "id": "axnAptIz0U4V"
      },
      "execution_count": null,
      "outputs": []
    },
    {
      "cell_type": "code",
      "source": [
        "x= np.random.normal(172,8,300)\n",
        "\n",
        "# Boxplot\n",
        "plt.boxplot(x)"
      ],
      "metadata": {
        "id": "e_GUybi20YqA"
      },
      "execution_count": null,
      "outputs": []
    },
    {
      "cell_type": "code",
      "source": [
        "## Subplots\n",
        "x=np.arange(100)\n",
        "\n",
        "fig,axs= plt.subplots(2,2)\n",
        "\n",
        "axs[0,0].plot(x,np.sin(x))\n",
        "axs[0,0].set_title('Sine Wave')\n",
        "\n",
        "axs[0,1].plot(x,np.cos(x))\n",
        "axs[0,1].set_title('Cosine Wave')\n",
        "\n",
        "axs[1,0].plot(x,np.tan(x))\n",
        "axs[1,0].set_title('Tangent Wave')\n",
        "\n",
        "axs[1,1].plot(x,np.log(x))\n",
        "axs[1,1].set_title('Log Function')\n",
        "axs[1,1].set_xlabel('X-axis')\n",
        "axs[1,1].set_ylabel('Y-axis')\n",
        "\n",
        "fig.suptitle('Four subplots')"
      ],
      "metadata": {
        "id": "RTXTzlAQ0wFX"
      },
      "execution_count": null,
      "outputs": []
    },
    {
      "cell_type": "code",
      "source": [
        "# 3D plotting\n",
        "ax=plt.axes(projection='3d')\n",
        "\n",
        "x =np.random.random(100)\n",
        "y =np.random.random(100)\n",
        "z =np.random.random(100)\n",
        "\n",
        "ax.scatter(x,y,z)\n",
        "ax.set_title('3D Scatter Plot')\n",
        "ax.set_xlabel('X-axis')\n",
        "ax.set_ylabel('Y-axis')\n",
        "ax.set_zlabel('Z-axis')\n",
        "\n",
        "# plt.show()\n",
        "\n",
        "# To interact with 3D plots in Google Colab or any Jupyter-based environment\n",
        "# import plotly.express as px\n",
        "# fig = px.scatter_3d(x=x, y=y, z=z, labels={'x': 'X-axis', 'y': 'Y-axis', 'z': 'Z-axis'})\n",
        "# fig.show()"
      ],
      "metadata": {
        "id": "btkGR34y3Lny"
      },
      "execution_count": null,
      "outputs": []
    },
    {
      "cell_type": "code",
      "source": [
        "ax=plt.axes(projection='3d')\n",
        "\n",
        "x =np.arange(0,50,0.1)\n",
        "y =np.sin(x)\n",
        "z =np.cos(x)\n",
        "\n",
        "ax.plot(x,y,z)\n",
        "\n",
        "# To interact with 3D plots in Google Colab or any Jupyter-based environment\n",
        "# import plotly.graph_objects as go\n",
        "# fig = go.Figure(data=[go.Scatter3d(\n",
        "#     x=x, y=y, z=z,\n",
        "#     mode='lines',\n",
        "#     line=dict(color='blue', width=4)\n",
        "# )])\n",
        "# fig.update_layout(\n",
        "#     title='Interactive 3D Line Plot',\n",
        "#     scene=dict(xaxis_title='X',yaxis_title='sin(x)',zaxis_title='cos(x)'))\n",
        "\n",
        "# fig.show()"
      ],
      "metadata": {
        "id": "02EmeVKV5CLl"
      },
      "execution_count": null,
      "outputs": []
    },
    {
      "cell_type": "code",
      "source": [
        "ax=plt.axes(projection='3d')\n",
        "\n",
        "x =np.arange(-5,5,0.1)\n",
        "y =np.arange(-5,5,0.1)\n",
        "x,y=np.meshgrid(x,y)\n",
        "z=np.sin(x)+np.cos(y)\n",
        "\n",
        "ax.plot_surface(x,y,z)\n",
        "\n",
        "# To interact with 3D plots in Google Colab or any Jupyter-based environment\n",
        "# import plotly.graph_objects as go\n",
        "# fig = go.Figure(data=[go.Surface(z=z, x=x, y=y)])\n",
        "# fig.update_layout(title='3D Surface Plot', scene=dict(\n",
        "#                     xaxis_title='X',\n",
        "#                     yaxis_title='Y',\n",
        "#                     zaxis_title='Z'))"
      ],
      "metadata": {
        "id": "2Zwfw22v5kvx"
      },
      "execution_count": null,
      "outputs": []
    },
    {
      "cell_type": "markdown",
      "source": [
        "Making the plot animated"
      ],
      "metadata": {
        "id": "EG84xH6MAsbt"
      }
    },
    {
      "cell_type": "code",
      "source": [
        "import random\n",
        "from IPython.display import clear_output\n",
        "\n",
        "heads_tails= [0,0]\n",
        "for _ in range(100):\n",
        "  heads_tails[random.randint(0,1)] += 1\n",
        "\n",
        "  # Clear previous plot\n",
        "  clear_output(wait=True)\n",
        "\n",
        "  plt.bar(['Heads','Tails'],heads_tails,color=['r','g'])\n",
        "  plt.pause(0.001)\n"
      ],
      "metadata": {
        "id": "qkeh5aGxAryL"
      },
      "execution_count": null,
      "outputs": []
    },
    {
      "cell_type": "markdown",
      "source": [
        "```scipy``` module"
      ],
      "metadata": {
        "id": "V3hS4-zGdQ8m"
      }
    },
    {
      "cell_type": "code",
      "source": [
        "from scipy import stats"
      ],
      "metadata": {
        "id": "vYwLqdDMdkC2"
      },
      "execution_count": null,
      "outputs": []
    },
    {
      "cell_type": "code",
      "source": [
        "# t-test\n",
        "group1 = np.random.normal(10, 2, 100)\n",
        "group2 = np.random.normal(12, 2, 100)\n",
        "\n",
        "# independent t-test\n",
        "t_stat, p_val = stats.ttest_ind(group1, group2)\n",
        "print(\"t-statistic:\", t_stat, \"p-value:\", p_val)\n",
        "\n",
        "# paired t-test\n",
        "t_stat, p_val = stats.ttest_rel(group1, group2)\n",
        "print(\"t-statistic:\", t_stat, \"p-value:\", p_val)"
      ],
      "metadata": {
        "id": "h1tYdLVAdVAd"
      },
      "execution_count": null,
      "outputs": []
    },
    {
      "cell_type": "code",
      "source": [
        "from scipy.io import loadmat\n",
        "# import .mat (matlab files) files using scipy module\n",
        "my_data = loadmat('example_mat_file.mat')\n",
        "\n",
        "# available variables names\n",
        "print(my_data.keys())\n",
        "\n",
        "# access a variable\n",
        "data = my_data['data']\n",
        "member= my_data['member']\n",
        "\n",
        "print(data.shape)\n",
        "print(member.shape)"
      ],
      "metadata": {
        "id": "GHBISTPVgAc1"
      },
      "execution_count": null,
      "outputs": []
    },
    {
      "cell_type": "markdown",
      "source": [
        "Doing PCA on iris data"
      ],
      "metadata": {
        "id": "kxZcYWQxHRUu"
      }
    },
    {
      "cell_type": "code",
      "source": [
        "from sklearn.decomposition import PCA\n",
        "from sklearn.datasets import load_iris\n",
        "\n",
        "iris = load_iris()\n",
        "X = iris.data\n",
        "y = iris.target\n",
        "feature_names = iris.feature_names\n",
        "\n",
        "X_selected = X[:, :2]\n",
        "\n",
        "plt.figure(figsize=(14, 6))\n",
        "# Plot for original features (sepal length vs sepal width)\n",
        "plt.subplot(1, 2, 1)\n",
        "plt.scatter(X_selected[:, 0], X_selected[:, 1], c=y, cmap='viridis')\n",
        "plt.title('Original Features (Sepal Length vs Sepal Width)')\n",
        "plt.xlabel('Sepal Length')\n",
        "plt.ylabel('Sepal Width')\n",
        "\n",
        "# Perform PCA to reduce to 2 components\n",
        "pca = PCA(n_components=2)\n",
        "X_pca = pca.fit_transform(X)\n",
        "\n",
        "# Plot for PCA components\n",
        "plt.subplot(1, 2, 2)\n",
        "plt.scatter(X_pca[:, 0], X_pca[:, 1], c=y, cmap='viridis')\n",
        "plt.title('PCA of Iris Dataset')\n",
        "plt.xlabel('First Principal Component')\n",
        "plt.ylabel('Second Principal Component')\n",
        "\n",
        "plt.tight_layout()\n",
        "plt.show()\n"
      ],
      "metadata": {
        "id": "z9DPgffWHU5I",
        "collapsed": true
      },
      "execution_count": null,
      "outputs": []
    },
    {
      "cell_type": "markdown",
      "source": [
        "**Linear Model**"
      ],
      "metadata": {
        "id": "0goM0Mv3rT8Y"
      }
    },
    {
      "cell_type": "code",
      "source": [
        "import numpy as np\n",
        "import matplotlib.pyplot as plt\n",
        "from sklearn.datasets import load_iris\n",
        "from sklearn.linear_model import LinearRegression\n",
        "from sklearn.model_selection import train_test_split\n",
        "from sklearn.metrics import mean_squared_error, r2_score\n",
        "\n",
        "iris = load_iris()\n",
        "X = iris.data[:, :2]\n",
        "y = iris.data[:, 2]\n",
        "\n",
        "X_train, X_test, y_train, y_test = train_test_split(X, y, test_size=0.3, random_state=42)\n",
        "\n",
        "\n",
        "model = LinearRegression()\n",
        "model.fit(X_train, y_train)\n",
        "\n",
        "y_pred = model.predict(X_test)\n",
        "\n",
        "print(\"Coefficients:\", model.coef_)\n",
        "print(\"Intercept:\", model.intercept_)\n",
        "print(\"Mean Squared Error:\", mean_squared_error(y_test, y_pred))\n",
        "print(\"R² Score:\", r2_score(y_test, y_pred))\n",
        "\n",
        "plt.figure(figsize=(10, 6))\n",
        "plt.scatter(y_test, y_pred, color='blue', label='Predicted vs Actual', alpha=0.7)\n",
        "plt.plot([min(y_test), max(y_test)], [min(y_test), max(y_test)], color='red', lw=2, label='Regression Line')\n",
        "plt.xlabel('Actual Petal Length (cm)')\n",
        "plt.ylabel('Predicted Petal Length (cm)')\n",
        "plt.title('Actual vs Predicted Petal Length (Linear Regression)')\n",
        "plt.legend()\n",
        "plt.grid(True)\n",
        "plt.show()\n"
      ],
      "metadata": {
        "id": "jaV5FYl1rXqq"
      },
      "execution_count": null,
      "outputs": []
    },
    {
      "cell_type": "markdown",
      "source": [
        "**OOP**"
      ],
      "metadata": {
        "id": "bN96fc-4e_u-"
      }
    },
    {
      "cell_type": "code",
      "source": [
        "class Dog:\n",
        "    def __init__(self, name, breed):\n",
        "        self.name = name\n",
        "        self.breed = breed\n",
        "\n",
        "    def bark(self):\n",
        "        print(f\"{self.name} says Woof!\")\n",
        "\n",
        "# Create an object\n",
        "my_dog = Dog(\"Buddy\", \"Golden Retriever\")\n",
        "my_dog.bark()"
      ],
      "metadata": {
        "colab": {
          "base_uri": "https://localhost:8080/"
        },
        "id": "9Jv6KZZAfBPj",
        "outputId": "7708f4aa-f1f1-4b69-d9d5-5c33060ddad9"
      },
      "execution_count": null,
      "outputs": [
        {
          "output_type": "stream",
          "name": "stdout",
          "text": [
            "Buddy says Woof!\n",
            "<__main__.Dog object at 0x79223fcd21d0>\n"
          ]
        }
      ]
    },
    {
      "cell_type": "code",
      "source": [
        "class Rectangle:\n",
        "    def __init__(self, width, height):\n",
        "        self.width = width\n",
        "        self.height = height\n",
        "\n",
        "    def area(self):\n",
        "        return self.width * self.height\n",
        "\n",
        "r1 = Rectangle(5, 10)\n",
        "print(\"Area:\", r1.area())\n"
      ],
      "metadata": {
        "id": "NpkndKhifK9m"
      },
      "execution_count": null,
      "outputs": []
    },
    {
      "cell_type": "code",
      "source": [
        "class Student:\n",
        "    def __init__(self, name):\n",
        "        self.name = name\n",
        "        self.marks = []\n",
        "\n",
        "    def add_mark(self, mark):\n",
        "        self.marks.append(mark)\n",
        "\n",
        "    def average(self):\n",
        "        return sum(self.marks) / len(self.marks)\n",
        "\n",
        "s1 = Student(\"Alice\")\n",
        "s1.add_mark(80)\n",
        "s1.add_mark(90)\n",
        "print(f\"{s1.name}'s average: {s1.average()}\")\n",
        "print(s1)\n"
      ],
      "metadata": {
        "id": "K4pf0nT_fV_A"
      },
      "execution_count": null,
      "outputs": []
    },
    {
      "cell_type": "code",
      "source": [
        "class Book:\n",
        "    def __init__(self, title, author):\n",
        "        self.title = title\n",
        "        self.author = author\n",
        "\n",
        "    def __str__(self):\n",
        "        return f\"{self.title} by {self.author}\"\n",
        "\n",
        "b1 = Book(\"1984\", \"George Orwell\")\n",
        "print(b1)\n"
      ],
      "metadata": {
        "colab": {
          "base_uri": "https://localhost:8080/"
        },
        "id": "QstDt-rJf0AL",
        "outputId": "c6c28e68-07c8-451e-df53-5b7c74df1cc1"
      },
      "execution_count": null,
      "outputs": [
        {
          "output_type": "stream",
          "name": "stdout",
          "text": [
            "1984 by George Orwell\n"
          ]
        }
      ]
    },
    {
      "cell_type": "markdown",
      "source": [
        "**Some questions to try yourself**\n",
        "1. Write a for loop to print the first 10 Fibonacci numbers. (F(n+1)=F(n)+F(n-1))\n",
        "2. Generate a list of 100 random numbers and calculate the 25th, 50th, and 75th percentiles using numpy.\n",
        "(Hint: Use ```np.percentile()``` function of ```numpy``` module.)\n",
        "3. Generate synthetic linear data (y = 2x + noise), fit a linear regression model, and plot the regression line.\n",
        "(Hint: Import ```LinearRegression``` function from ```sklearn.linear_model``` module. Use ```model=LinearRegression()``` to initialize and ```model.fit(X,Y)``` to fit the model and ```model.predict(X)``` to predict.\n",
        "4. Apply PCA to the Iris dataset and plot the first two principal components. Explain how much variance is explained by the first two components.\n",
        "5. Simulate rolling two dice 1000 times and plot the distribution of the sum of the two dice.\n",
        "(Hint: use ```np.random.randint(l, u, n)``` to simulate dice roll.)\n",
        "6. Create a pandas DataFrame with student names, marks, and subjects and filter students with marks > 70 and calculate the average mark.\n"
      ],
      "metadata": {
        "id": "2Ym5gS4J_LAD"
      }
    }
  ]
}